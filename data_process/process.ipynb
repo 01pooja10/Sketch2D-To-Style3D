{
 "cells": [
  {
   "cell_type": "code",
   "execution_count": 33,
   "metadata": {},
   "outputs": [],
   "source": [
    "import numpy as np\n",
    "from PIL import Image\n",
    "import glob\n",
    "import matplotlib.pyplot as plt"
   ]
  },
  {
   "cell_type": "code",
   "execution_count": 34,
   "metadata": {},
   "outputs": [],
   "source": [
    "def iterative_flood_fill(image, x, y, visited):\n",
    "    stack = [(x, y)]  # Initialize stack with the starting pixel\n",
    "\n",
    "    while stack:\n",
    "        x, y = stack.pop()\n",
    "\n",
    "        if x < 0 or x >= image.shape[1] or y < 0 or y >= image.shape[0]:\n",
    "            continue  # Skip out-of-bounds pixels\n",
    "        if image[y, x] == 1 or visited[y, x]:\n",
    "            continue  # Skip edge pixels and already visited pixels\n",
    "\n",
    "        visited[y, x] = True  # Mark the pixel as visited\n",
    "\n",
    "        # Add the neighboring pixels to the stack\n",
    "        stack.append((x + 1, y))  # Right\n",
    "        stack.append((x - 1, y))  # Left\n",
    "        stack.append((x, y + 1))  # Down\n",
    "        stack.append((x, y - 1))  # Up\n",
    "\n",
    "\n",
    "def outer_edge_detector_iterative(image):\n",
    "    visited = np.zeros_like(image)  # Initialize the visited array\n",
    "\n",
    "    # Apply flood fill to the boundary pixels of the image\n",
    "    for i in range(image.shape[0]):\n",
    "        iterative_flood_fill(image, 0, i, visited)  # Left edge\n",
    "        iterative_flood_fill(image, image.shape[1] - 1, i, visited)  # Right edge\n",
    "\n",
    "    for j in range(image.shape[1]):\n",
    "        iterative_flood_fill(image, j, 0, visited)  # Top edge\n",
    "        iterative_flood_fill(image, j, image.shape[0] - 1, visited)  # Bottom edge\n",
    "\n",
    "    return visited"
   ]
  },
  {
   "cell_type": "code",
   "execution_count": 35,
   "metadata": {},
   "outputs": [
    {
     "ename": "KeyboardInterrupt",
     "evalue": "",
     "output_type": "error",
     "traceback": [
      "\u001b[0;31m---------------------------------------------------------------------------\u001b[0m",
      "\u001b[0;31mKeyboardInterrupt\u001b[0m                         Traceback (most recent call last)",
      "\u001b[0;32m/var/folders/jn/fb4m34b90cx4pwn43w1n82rw0000gn/T/ipykernel_86836/349902226.py\u001b[0m in \u001b[0;36m<module>\u001b[0;34m\u001b[0m\n\u001b[1;32m      8\u001b[0m     \u001b[0mi_filtered\u001b[0m \u001b[0;34m=\u001b[0m \u001b[0mi\u001b[0m \u001b[0;34m>\u001b[0m \u001b[0;36m50\u001b[0m\u001b[0;34m\u001b[0m\u001b[0m\n\u001b[1;32m      9\u001b[0m \u001b[0;34m\u001b[0m\u001b[0m\n\u001b[0;32m---> 10\u001b[0;31m     \u001b[0mmask\u001b[0m \u001b[0;34m=\u001b[0m \u001b[0mouter_edge_detector_iterative\u001b[0m\u001b[0;34m(\u001b[0m\u001b[0mi_filtered\u001b[0m\u001b[0;34m)\u001b[0m\u001b[0;34m\u001b[0m\u001b[0m\n\u001b[0m\u001b[1;32m     11\u001b[0m     \u001b[0mi_rgb_r\u001b[0m \u001b[0;34m=\u001b[0m \u001b[0mi_rgb\u001b[0m\u001b[0;34m[\u001b[0m\u001b[0;34m...\u001b[0m\u001b[0;34m,\u001b[0m \u001b[0;36m0\u001b[0m\u001b[0;34m]\u001b[0m\u001b[0;34m\u001b[0m\u001b[0m\n\u001b[1;32m     12\u001b[0m     \u001b[0mi_rgb_g\u001b[0m \u001b[0;34m=\u001b[0m \u001b[0mi_rgb\u001b[0m\u001b[0;34m[\u001b[0m\u001b[0;34m...\u001b[0m\u001b[0;34m,\u001b[0m \u001b[0;36m1\u001b[0m\u001b[0;34m]\u001b[0m\u001b[0;34m\u001b[0m\u001b[0m\n",
      "\u001b[0;32m/var/folders/jn/fb4m34b90cx4pwn43w1n82rw0000gn/T/ipykernel_86836/648235337.py\u001b[0m in \u001b[0;36mouter_edge_detector_iterative\u001b[0;34m(image)\u001b[0m\n\u001b[1;32m     36\u001b[0m     \u001b[0;31m# Apply flood fill to the boundary pixels of the image\u001b[0m\u001b[0;34m\u001b[0m\u001b[0;34m\u001b[0m\u001b[0m\n\u001b[1;32m     37\u001b[0m     \u001b[0;32mfor\u001b[0m \u001b[0mi\u001b[0m \u001b[0;32min\u001b[0m \u001b[0mrange\u001b[0m\u001b[0;34m(\u001b[0m\u001b[0mimage\u001b[0m\u001b[0;34m.\u001b[0m\u001b[0mshape\u001b[0m\u001b[0;34m[\u001b[0m\u001b[0;36m0\u001b[0m\u001b[0;34m]\u001b[0m\u001b[0;34m)\u001b[0m\u001b[0;34m:\u001b[0m\u001b[0;34m\u001b[0m\u001b[0m\n\u001b[0;32m---> 38\u001b[0;31m         \u001b[0miterative_flood_fill\u001b[0m\u001b[0;34m(\u001b[0m\u001b[0mimage\u001b[0m\u001b[0;34m,\u001b[0m \u001b[0;36m0\u001b[0m\u001b[0;34m,\u001b[0m \u001b[0mi\u001b[0m\u001b[0;34m,\u001b[0m \u001b[0mvisited\u001b[0m\u001b[0;34m)\u001b[0m  \u001b[0;31m# Left edge\u001b[0m\u001b[0;34m\u001b[0m\u001b[0m\n\u001b[0m\u001b[1;32m     39\u001b[0m         \u001b[0miterative_flood_fill\u001b[0m\u001b[0;34m(\u001b[0m\u001b[0mimage\u001b[0m\u001b[0;34m,\u001b[0m \u001b[0mimage\u001b[0m\u001b[0;34m.\u001b[0m\u001b[0mshape\u001b[0m\u001b[0;34m[\u001b[0m\u001b[0;36m1\u001b[0m\u001b[0;34m]\u001b[0m \u001b[0;34m-\u001b[0m \u001b[0;36m1\u001b[0m\u001b[0;34m,\u001b[0m \u001b[0mi\u001b[0m\u001b[0;34m,\u001b[0m \u001b[0mvisited\u001b[0m\u001b[0;34m)\u001b[0m  \u001b[0;31m# Right edge\u001b[0m\u001b[0;34m\u001b[0m\u001b[0m\n\u001b[1;32m     40\u001b[0m \u001b[0;34m\u001b[0m\u001b[0m\n",
      "\u001b[0;32m/var/folders/jn/fb4m34b90cx4pwn43w1n82rw0000gn/T/ipykernel_86836/648235337.py\u001b[0m in \u001b[0;36miterative_flood_fill\u001b[0;34m(image, x, y, visited)\u001b[0m\n\u001b[1;32m     14\u001b[0m         \u001b[0;32mif\u001b[0m \u001b[0mx\u001b[0m \u001b[0;34m<\u001b[0m \u001b[0;36m0\u001b[0m \u001b[0;32mor\u001b[0m \u001b[0mx\u001b[0m \u001b[0;34m>=\u001b[0m \u001b[0mimage\u001b[0m\u001b[0;34m.\u001b[0m\u001b[0mshape\u001b[0m\u001b[0;34m[\u001b[0m\u001b[0;36m1\u001b[0m\u001b[0;34m]\u001b[0m \u001b[0;32mor\u001b[0m \u001b[0my\u001b[0m \u001b[0;34m<\u001b[0m \u001b[0;36m0\u001b[0m \u001b[0;32mor\u001b[0m \u001b[0my\u001b[0m \u001b[0;34m>=\u001b[0m \u001b[0mimage\u001b[0m\u001b[0;34m.\u001b[0m\u001b[0mshape\u001b[0m\u001b[0;34m[\u001b[0m\u001b[0;36m0\u001b[0m\u001b[0;34m]\u001b[0m\u001b[0;34m:\u001b[0m\u001b[0;34m\u001b[0m\u001b[0m\n\u001b[1;32m     15\u001b[0m             \u001b[0;32mcontinue\u001b[0m  \u001b[0;31m# Skip out-of-bounds pixels\u001b[0m\u001b[0;34m\u001b[0m\u001b[0m\n\u001b[0;32m---> 16\u001b[0;31m         \u001b[0;32mif\u001b[0m \u001b[0mimage\u001b[0m\u001b[0;34m[\u001b[0m\u001b[0my\u001b[0m\u001b[0;34m,\u001b[0m \u001b[0mx\u001b[0m\u001b[0;34m]\u001b[0m \u001b[0;34m==\u001b[0m \u001b[0;36m1\u001b[0m \u001b[0;32mor\u001b[0m \u001b[0mvisited\u001b[0m\u001b[0;34m[\u001b[0m\u001b[0my\u001b[0m\u001b[0;34m,\u001b[0m \u001b[0mx\u001b[0m\u001b[0;34m]\u001b[0m\u001b[0;34m:\u001b[0m\u001b[0;34m\u001b[0m\u001b[0m\n\u001b[0m\u001b[1;32m     17\u001b[0m             \u001b[0;32mcontinue\u001b[0m  \u001b[0;31m# Skip edge pixels and already visited pixels\u001b[0m\u001b[0;34m\u001b[0m\u001b[0m\n\u001b[1;32m     18\u001b[0m \u001b[0;34m\u001b[0m\u001b[0m\n",
      "\u001b[0;31mKeyboardInterrupt\u001b[0m: "
     ]
    }
   ],
   "source": [
    "image_files = glob.glob(\"imgs_epoch_019/*.png\")\n",
    "\n",
    "for image in image_files:\n",
    "    i = Image.open(image)\n",
    "    i_rgb = np.array(i.convert(\"RGB\"))\n",
    "\n",
    "    i = np.array(i)\n",
    "    i_filtered = i > 50\n",
    "\n",
    "    mask = outer_edge_detector_iterative(i_filtered)\n",
    "    i_rgb_r = i_rgb[..., 0]\n",
    "    i_rgb_g = i_rgb[..., 1]\n",
    "    i_rgb_b = i_rgb[..., 2]\n",
    "    i_rgb_r[(~mask) & (i_filtered == 0)] = 255\n",
    "\n",
    "    saved = Image.fromarray(i_rgb)\n",
    "    saved.save(image)"
   ]
  }
 ],
 "metadata": {
  "kernelspec": {
   "display_name": "venv",
   "language": "python",
   "name": "python3"
  },
  "language_info": {
   "codemirror_mode": {
    "name": "ipython",
    "version": 3
   },
   "file_extension": ".py",
   "mimetype": "text/x-python",
   "name": "python",
   "nbconvert_exporter": "python",
   "pygments_lexer": "ipython3",
   "version": "3.7.0"
  }
 },
 "nbformat": 4,
 "nbformat_minor": 2
}
